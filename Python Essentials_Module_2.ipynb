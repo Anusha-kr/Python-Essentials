{
 "cells": [
  {
   "cell_type": "markdown",
   "metadata": {},
   "source": [
    "# Python Essentials :\n",
    "## Module 2"
   ]
  },
  {
   "cell_type": "markdown",
   "metadata": {},
   "source": [
    "**Data types, variables, basic input-output operations, basic operators**\n",
    "\n",
    "In this module, you will learn:\n",
    "\n",
    "1. how to write and run simple Python programs;\n",
    "2. what Python literals, operators, and expressions are;\n",
    "3. what variables are and what are the rules that govern them;\n",
    "4. how to perform basic input and output operations."
   ]
  },
  {
   "cell_type": "markdown",
   "metadata": {},
   "source": [
    "### Hello, World!\n",
    "It's time to start writing some **real, working Python code**. It'll be very simple for the time being.\n",
    "\n",
    "As we're going to show you some fundamental concepts and terms, these snippets of code won't be serious or complex.\n",
    "\n",
    "Run the code in the editor window on the right. If everything goes okay here, you'll see the line of text in the console window.\n",
    "\n",
    "Alternatively, launch IDLE, create a new Python source file, fill it with this code, name the file and save it. Now run it. If everything goes okay, you'll see the rhyme's line in the IDLE console window. The code you have run should look familiar. You saw something very similar when we led you through the setting up of the IDLE environment.\n",
    "\n",
    "Now we'll spend some time showing and explaining to you what you're actually seeing, and why it looks like this.\n",
    "\n",
    "As you can see, the first program consists of the following parts:\n",
    "\n",
    "1. the word **print**;\n",
    "2. an opening parenthesis;\n",
    "3. a quotation mark;\n",
    "4. a line of text: **Hello, World!;**\n",
    "5. another quotation mark;\n",
    "6. a closing parenthesis.\n",
    "Each of the above plays a very important role in the code."
   ]
  },
  {
   "cell_type": "code",
   "execution_count": 1,
   "metadata": {},
   "outputs": [
    {
     "name": "stdout",
     "output_type": "stream",
     "text": [
      "Hello, World!\n"
     ]
    }
   ],
   "source": [
    "print(\"Hello, World!\")"
   ]
  },
  {
   "cell_type": "markdown",
   "metadata": {},
   "source": [
    "### **The print() function**\n",
    "Look at the line of code below:\n",
    "\n",
    "print(\"Hello, World!\")\n",
    "\n",
    "\n",
    "The word **print** that you can see here is a **function name**. That doesn't mean that wherever the word appears it is always a function name. The meaning of the word comes from the context in which the word has been used.\n",
    "\n",
    "You've probably encountered the term function many times before, during math classes. You can probably also list several names of mathematical functions, like sine or log.\n",
    "\n",
    "Python functions, however, are more flexible, and can contain more content than their mathematical siblings.\n",
    "\n",
    "A function (in this context) is a separate part of the computer code able to:\n",
    "\n",
    "cause some effect (e.g., send text to the terminal, create a file, draw an image, play a sound, etc.); this is something completely unheard of in the world of mathematics;\n",
    "evaluate a value (e.g., the square root of a value or the length of a given text) and return it as the function's result; this is what makes Python functions the relatives of mathematical concepts.\n",
    "Moreover, many of Python functions can do the above two things together.\n",
    "Where do the functions come from?\n",
    "\n",
    "They may come from Python itself; the print function is one of this kind; such a function is an added value received together with Python and its environment (it is built-in); you don't have to do anything special (e.g., ask anyone for anything) if you want to make use of it;\n",
    "they may come from one or more of Python's add-ons named **modules**; some of the modules come with Python, others may require separate installation - whatever the case, they all need to be explicitly connected with your code (we'll show you how to do that soon);\n",
    "you can write them yourself, placing as many functions as you want and need inside your program to make it simpler, clearer and more elegant.\n",
    "The name of the function should be **significant**(the name of the print function is self-evident).\n",
    "\n",
    "Of course, if you're going to make use of any already existing function, you have no influence on its name, but when you start writing your own functions, you should consider carefully your choice of names."
   ]
  },
  {
   "cell_type": "markdown",
   "metadata": {},
   "source": [
    "As we said before, a function may have:\n",
    "\n",
    "1. **an effect;**\n",
    "2. **a result.**\n",
    "\n",
    "There's also a third, very important, function component - **the argument(s)**.\n",
    "\n",
    "Mathematical functions usually take one argument, e.g., sin(x) takes an x, which is the measure of an angle.\n",
    "\n",
    "Python functions, on the other hand, are more versatile. Depending on the individual needs, they may accept any number of arguments - as many as necessary to perform their tasks. Note: any number includes zero - some Python functions don't need any argument.\n",
    "\n",
    "print(\"Hello, World!\")\n",
    "\n",
    "\n",
    "In spite of the number of needed/provided arguments, Python functions strongly demand the presence of a **pair of parentheses** - opening and closing ones, respectively.\n",
    "\n",
    "The only argument delivered to the print() function in this example is a string:\n",
    "\n",
    "print(\"Hello, World!\")\n",
    "\n",
    "\n",
    "As you can see, the string is delimited with quotes - in fact, the quotes make the string - they cut out a part of the code and assign a different meaning to it.\n",
    "\n",
    "You can imagine that the quotes say something like: the text between us is not code. It isn't intended to be executed, and you should take it as is.\n",
    "\n",
    "Almost anything you put inside the quotes will be taken literally, not as code, but as data. Try to play with this particular string - modify it, enter some new content, delete some of the existing content.\n",
    "\n",
    "There's more than one way to specify a string inside Python's code, but for now, though, this one is enough.\n",
    "\n",
    "So far, you have learned about two important parts of the code: the function and the string. We've talked about them in terms of syntax, but now it's time to discuss them in terms of semantics."
   ]
  },
  {
   "cell_type": "markdown",
   "metadata": {},
   "source": [
    "The function name ( *print* in this case) along with the parentheses and argument(s), forms the **function invocation.**\n",
    "\n",
    "We'll discuss this in more depth soon, but we should just shed a little light on it right now.\n",
    "\n",
    "**print(\"Hello, World!\")\n",
    "\n",
    "What happens when Python encounters an invocation like this one below?\n",
    "\n",
    "**function_name(argument)\n",
    "\n",
    "Let's see:\n",
    "\n",
    "1. First, Python checks if the name specified is legal (it browses its internal data in order to find an existing function of the name; if this search fails, Python aborts the code);\n",
    "2. second, Python checks if the function's requirements for the number of arguments **allows you to invoke** the function in this way (e.g., if a specific function demands exactly two arguments, any invocation delivering only one argument will be considered erroneous, and will abort the code's execution);\n",
    "3. third, Python **leaves your code for a moment** and jumps into the function you want to invoke; of course, it takes your argument(s) too and passes it/them to the function;\n",
    "4. fourth, the function **executes its code**, causes the desired effect (if any), evaluates the desired result(s) (if any) and finishes its task;\n",
    "5. finally, Python **returns to your code** (to the place just after the invocation) and resumes its execution."
   ]
  },
  {
   "cell_type": "markdown",
   "metadata": {},
   "source": [
    "## Exercise:\n",
    "#### Objectives :\n",
    "becoming familiar with the **print()** function and its formatting capabilities; experimenting with Python code.\n",
    "\n",
    "### Scenario\n",
    "The **print()** command, which is one of the easiest directives in Python, simply prints out a line to the screen.\n",
    "\n",
    "In your first lab:\n",
    "\n",
    "use the **print()** function to print the line **Hello, Python!** to the screen. Use double quotes around the string;\n",
    "having done that, use the **print()** function again, but this time print your first name;\n",
    "remove the double quotes and run your code. Watch Python's reaction. What kind of error is thrown?\n",
    "then, remove the parentheses, put back the double quotes, and run your code again. What kind of error is thrown this time?\n",
    "experiment as much as you can. Change double quotes to single quotes, use multiple **print()** functions on the same line, and then on different lines. See what happens."
   ]
  },
  {
   "cell_type": "code",
   "execution_count": 3,
   "metadata": {},
   "outputs": [
    {
     "name": "stdout",
     "output_type": "stream",
     "text": [
      "Hello, Python!\n"
     ]
    }
   ],
   "source": [
    "print(\"Hello, Python!\")"
   ]
  },
  {
   "cell_type": "markdown",
   "metadata": {},
   "source": [
    "Three important questions have to be answered as soon as possible:\n",
    "\n",
    "**1. What is the effect the print() function causes?**\n",
    "\n",
    "The effect is very useful and very spectacular. The function:\n",
    "\n",
    "- takes its arguments (it may accept more than one argument and may also accept less than one argument)\n",
    "- converts them into human-readable form if needed (as you may suspect, strings don't require this action, as the string is already readable)\n",
    "- and sends the resulting data to the output device (usually the console); in other words, anything you put into the print() function will appear on your screen.\n",
    "\n",
    "No wonder then, that from now on, you'll utilize print() very intensively to see the results of your operations and evaluations.\n",
    "\n",
    "**2. What arguments does print() expect?**\n",
    "\n",
    "Any. We'll show you soon that print() is able to operate with virtually all types of data offered by Python. Strings, numbers, characters, logical values, objects - any of these may be successfully passed to print().\n",
    "\n",
    "\n",
    "**3. What value does the print() function return?**\n",
    "\n",
    "None. Its effect is enough."
   ]
  },
  {
   "cell_type": "markdown",
   "metadata": {},
   "source": [
    "### The print() function - instructions\n",
    "You have already seen a computer program that contains one function invocation. A function invocation is one of many possible kinds of Python **instructions.**\n",
    "\n",
    "Of course, any complex program usually contains many more instructions than one. The question is: how do you couple more than one instruction into the Python code?\n",
    "\n",
    "Python's syntax is quite specific in this area. Unlike most programming languages, Python requires that **there cannot be more than one instruction in a line.**\n",
    "\n",
    "A line can be empty (i.e., it may contain no instruction at all) but it must not contain two, three or more instructions. This is strictly prohibited.\n",
    "\n",
    "Note: Python makes one exception to this rule - it allows one instruction to spread across more than one line (which may be helpful when your code contains complex constructions).\n",
    "\n",
    "Let's expand the code a bit, you can see it in the editor. Run it and note what you see in the console.\n",
    "\n",
    "Your Python console should now look like this:\n",
    "\n",
    "| Output | \n",
    "| :- |\n",
    "| The itsy bitsy spider climbed up the waterspout.Down came the rain and washed the spider out.output | \n",
    "\n",
    "The itsy bitsy spider climbed up the waterspout.\n",
    "Down came the rain and washed the spider out.\n",
    "output\n",
    "\n",
    "This is a good opportunity to make some observations:\n",
    "\n",
    "the program **invokes the print() function twice**, and you can see two separate lines in the console - this means that print() begins its output from a new line each time it starts its execution; you can change this behavior, but you can also use it to your advantage;\n",
    "each print() invocation contains a different string, as its argument and the console content reflects it - this means **that the instructions in the code are executed in the same order** in which they have been placed in the source file; no next instruction is executed until the previous one is completed (there are some exceptions to this rule, but you can ignore them for now)"
   ]
  },
  {
   "cell_type": "code",
   "execution_count": 4,
   "metadata": {},
   "outputs": [
    {
     "name": "stdout",
     "output_type": "stream",
     "text": [
      "The itsy bitsy spider climbed up the waterspout.\n",
      "Down came the rain and washed the spider out.\n"
     ]
    }
   ],
   "source": [
    "print(\"The itsy bitsy spider climbed up the waterspout.\")\n",
    "print(\"Down came the rain and washed the spider out.\")"
   ]
  },
  {
   "cell_type": "markdown",
   "metadata": {},
   "source": [
    "We've changed the example a bit - we've added one empty print() function invocation. We call it empty because we haven't delivered any arguments to the function.\n",
    "\n",
    "You can see it in the editor window. Run the code.\n",
    "\n",
    "What happens?\n",
    "\n",
    "If everything goes right, you should see something like this:\n",
    "\n",
    "| Output |\n",
    "| :- |\n",
    "|The itsy bitsy spider climbed up the waterspout.|\n",
    "| |\n",
    "|Down came the rain and washed the spider out.|\n",
    "\n",
    "As you can see, the empty **print()** invocation is not as empty as you may have expected - it does output an empty line, or (this interpretation is also correct) its output is just a newline.\n",
    "\n",
    "This is not the only way to produce a **newline** in the output console. We're now going to show you another way."
   ]
  },
  {
   "cell_type": "markdown",
   "metadata": {},
   "source": [
    "#### The print() function - the escape and newline characters\n",
    "We've modified the code again. Look at it carefully.\n",
    "\n",
    "There are two very subtle changes - we've inserted a strange pair of characters inside the rhyme. They look like this: \\n.\n",
    "\n",
    "\n",
    "Interestingly, while you can see two characters, Python sees one.\n",
    "\n",
    "The backslash (\\) has a very special meaning when used inside strings - this is called the escape character.\n",
    "\n",
    "The word escape should be understood specifically - it means that the series of characters in the string escapes for the moment (a very short moment) to introduce a special inclusion.\n",
    "\n",
    "In other words, the backslash doesn't mean anything in itself, but is only a kind of announcement, that the next character after the backslash has a different meaning too.\n",
    "\n",
    "The letter n placed after the backslash comes from the word newline.\n",
    "\n",
    "Both the backslash and the n form a special symbol named a newline character, which urges the console to start a new output line.\n",
    "Run the code. Your console should now look like this:\n",
    "\n",
    "| Output |\n",
    "| :- |\n",
    "| The itsy bitsy spider|\n",
    "|climbed up the waterspout.|\n",
    "| |\n",
    "|Down came the rain|\n",
    "|and washed the spider out.|\n",
    "\n",
    "As you can see, two newlines appear in the nursery rhyme, in the places where the **\\n** have been used."
   ]
  },
  {
   "cell_type": "code",
   "execution_count": 5,
   "metadata": {},
   "outputs": [
    {
     "name": "stdout",
     "output_type": "stream",
     "text": [
      "The itsy bitsy spider\n",
      "climbed up the waterspout.\n",
      "\n",
      "Down came the rain\n",
      "and washed the spider out.\n"
     ]
    }
   ],
   "source": [
    "print(\"The itsy bitsy spider\\nclimbed up the waterspout.\")\n",
    "print()\n",
    "print(\"Down came the rain\\nand washed the spider out.\")"
   ]
  },
  {
   "cell_type": "markdown",
   "metadata": {},
   "source": [
    "#### The print() function - using multiple arguments\n",
    "So far we have tested the print() function behavior with no arguments, and with one argument. It's also worth trying to feed the print() function with more than one argument.\n",
    "\n",
    "Look at the editor window. This is what we're going to test now:"
   ]
  },
  {
   "cell_type": "code",
   "execution_count": 6,
   "metadata": {},
   "outputs": [
    {
     "name": "stdout",
     "output_type": "stream",
     "text": [
      "The itsy bitsy spider climbed up the waterspout.\n"
     ]
    }
   ],
   "source": [
    "print(\"The itsy bitsy spider\" , \"climbed up\" , \"the waterspout.\")"
   ]
  },
  {
   "cell_type": "markdown",
   "metadata": {},
   "source": [
    "There is one **print()** function invocation, but it contains **three arguments**. All of them are strings.\n",
    "\n",
    "The arguments are separated by commas. We've surrounded them with spaces to make them more visible, but it's not really necessary, and we won't be doing it anymore.\n",
    "\n",
    "In this case, the commas separating the arguments play a completely different role than the comma inside the string. The former is a part of Python's syntax, the latter is intended to be shown in the console.\n",
    "\n",
    "The spaces, removed from the strings, have appeared again. Can you explain why?\n",
    "\n",
    "Two conclusions emerge from this example:\n",
    "\n",
    "- a print() function invoked with more than one argument outputs them all on one line;\n",
    "- the print() function puts a space between the outputted arguments on its own initiative."
   ]
  },
  {
   "cell_type": "markdown",
   "metadata": {},
   "source": [
    "The print() function - the positional way of passing the arguments\n",
    "Now that you know a bit about print() function customs, we're going to show you how to change them.\n",
    "\n",
    "You should be able to predict the output without running the code in the editor.\n",
    "\n",
    "The way in which we are passing the arguments into the print() function is the most common in Python, and is called the positional way (this name comes from the fact that the meaning of the argument is dictated by its position, e.g., the second argument will be outputted after the first, not the other way round).\n",
    "\n",
    "Run the code and check if the output matches your predictions."
   ]
  },
  {
   "cell_type": "code",
   "execution_count": 7,
   "metadata": {},
   "outputs": [
    {
     "name": "stdout",
     "output_type": "stream",
     "text": [
      "My name is Python.\n",
      "Monty Python.\n"
     ]
    }
   ],
   "source": [
    "print(\"My name is\", \"Python.\")\n",
    "print(\"Monty Python.\")"
   ]
  },
  {
   "cell_type": "markdown",
   "metadata": {},
   "source": [
    "#### The print() function - the keyword arguments\n",
    "Python offers another mechanism for the passing of arguments, which can be helpful when you want to convince the print() function to change its behavior a bit.\n",
    "\n",
    "We aren't going to explain it in depth right now. We plan to do this when we talk about functions. For now, we simply want to show you how it works. Feel free to use it in your own programs.\n",
    "\n",
    "The mechanism is called keyword arguments. The name stems from the fact that the meaning of these arguments is taken not from its location (position) but from the special word (keyword) used to identify them.\n",
    "\n",
    "The print() function has two keyword arguments that you can use for your purposes. The first of them is named end.\n",
    "\n",
    "In the editor window you can see a very simple example of using a keyword argument.\n",
    "\n",
    "In order to use it, it is necessary to know some rules:\n",
    "\n",
    "- a keyword argument consists of three elements: a keyword identifying the argument (end here); an equal sign (=); and a value assigned to that argument;\n",
    "- any keyword arguments have to be put after the last positional argument (this is very important)\n",
    "\n",
    "In our example, we have made use of the end keyword argument, and set it to a string containing one space.\n",
    "\n",
    "The console should now be showing the following text:\n",
    "\n",
    "| Output |\n",
    "| :- |\n",
    "| My name is Python. Monty Python. |\n",
    "\n",
    "As you can see, the end keyword argument determines the characters the print() function sends to the output once it reaches the end of its positional arguments.\n",
    "\n",
    "The default behavior reflects the situation where the end keyword argument is implicitly used in the following way: **end=\"\\n\".**"
   ]
  },
  {
   "cell_type": "code",
   "execution_count": 8,
   "metadata": {},
   "outputs": [
    {
     "name": "stdout",
     "output_type": "stream",
     "text": [
      "My name is Python. Monty Python.\n"
     ]
    }
   ],
   "source": [
    "print(\"My name is\", \"Python.\", end=\" \")\n",
    "print(\"Monty Python.\")"
   ]
  },
  {
   "cell_type": "markdown",
   "metadata": {},
   "source": [
    "#### The print() function - the keyword arguments\n",
    "And now it's time to try something more difficult.\n",
    "\n",
    "If you look carefully, you'll see that we've used the end argument, but the string assigned to it is empty (it contains no characters at all).\n",
    "\n",
    "What will happen now? Run the program in the editor to find out.\n",
    "\n",
    "As the **end** argument has been set to nothing, the print() function outputs nothing too, once its positional arguments have been exhausted.\n",
    "\n",
    "The console should now be showing the following text:\n",
    "\n",
    "| Output |\n",
    "| :- |\n",
    "| My name is Monty Python. |\n",
    "\n",
    "Note: no newlines have been sent to the output.\n",
    "\n",
    "The string assigned to the end keyword argument can be of any length. Experiment with it if you want."
   ]
  },
  {
   "cell_type": "code",
   "execution_count": 9,
   "metadata": {},
   "outputs": [
    {
     "name": "stdout",
     "output_type": "stream",
     "text": [
      "My name is Monty Python.\n"
     ]
    }
   ],
   "source": [
    "print(\"My name is \", end=\"\")\n",
    "print(\"Monty Python.\")"
   ]
  },
  {
   "cell_type": "markdown",
   "metadata": {},
   "source": [
    "#### The print() function - the keyword arguments\n",
    "We've said previously that the print() function separates its outputted arguments with spaces. This behavior can be changed, too.\n",
    "\n",
    "The keyword argument that can do this is named sep (like separator).\n",
    "\n",
    "The sep argument delivers the following results:\n",
    "\n",
    "| Output |\n",
    "| :- |\n",
    "| My-name-is-Monty-Python. |\n",
    "\n",
    "The print() function now uses a dash, instead of a space, to separate the outputted arguments.\n",
    "\n",
    "Note: the sep argument's value may be an empty string, too. Try it for yourself."
   ]
  },
  {
   "cell_type": "code",
   "execution_count": 10,
   "metadata": {},
   "outputs": [
    {
     "name": "stdout",
     "output_type": "stream",
     "text": [
      "My-name-is-Monty-Python.\n"
     ]
    }
   ],
   "source": [
    "print(\"My\", \"name\", \"is\", \"Monty\", \"Python.\", sep=\"-\")"
   ]
  },
  {
   "cell_type": "markdown",
   "metadata": {},
   "source": [
    "#### The print() function - the keyword arguments\n",
    "Both keyword arguments may be mixed in one invocation, just like here in the editor window.\n",
    "\n",
    "The example doesn't make much sense, but it visibly presents the interactions between end and sep.\n",
    "\n",
    "Can you predict the output?\n",
    "\n",
    "Run the code and see if it matches your predictions.\n",
    "\n",
    "Now that you understand the print() function, you're ready to consider how to store and process data in Python.\n",
    "\n",
    "Without print(), you wouldn't be able to see any results."
   ]
  },
  {
   "cell_type": "code",
   "execution_count": 11,
   "metadata": {},
   "outputs": [
    {
     "name": "stdout",
     "output_type": "stream",
     "text": [
      "My_name_is*Monty*Python.*\n"
     ]
    }
   ],
   "source": [
    "print(\"My\", \"name\", \"is\", sep=\"_\", end=\"*\")\n",
    "print(\"Monty\", \"Python.\", sep=\"*\", end=\"*\\n\")"
   ]
  },
  {
   "attachments": {
    "image.png": {
     "image/png": "[encoded data removed]"
    }
   },
   "cell_type": "markdown",
   "metadata": {},
   "source": [
    "## Scenario\n",
    "Modify the first line of code in the editor, using the sep and end keywords, to match the expected output. Use the two print() functions in the editor.\n",
    "\n",
    "Don't change anything in the second print() invocation.\n",
    "\n",
    "Line 1 : print(\"Programming\",\"Essentials\",\"in\")\n",
    "\n",
    "Line 2 : print(\"Python\")\n",
    "\n",
    "Expected Output :\n",
    "\n",
    "![image.png](attachment:image.png)"
   ]
  },
  {
   "cell_type": "code",
   "execution_count": 12,
   "metadata": {},
   "outputs": [
    {
     "name": "stdout",
     "output_type": "stream",
     "text": [
      "Programming***Essentials***in...Python\n"
     ]
    }
   ],
   "source": [
    "print(\"Programming***Essentials***in...\",end=\"\")\n",
    "print(\"Python\")"
   ]
  },
  {
   "cell_type": "markdown",
   "metadata": {},
   "source": [
    "# Key takeaways\n",
    "1. The print() function is a built-in function. It prints/outputs a specified message to the screen/consol window.\n",
    "\n",
    "2. Built-in functions, contrary to user-defined functions, are always available and don't have to be imported. Python 3.8 comes with 69 built-in functions. You can find their full list provided in alphabetical order in the Python Standard Library.\n",
    "\n",
    "3. To call a function (this process is known as function invocation or function call), you need to use the function name followed by parentheses. You can pass arguments into a function by placing them inside the parentheses. You must separate arguments with a comma, e.g., print(\"Hello,\", \"world!\"). An \"empty\" print() function outputs an empty line to the screen.\n",
    "\n",
    "4. Python strings are delimited with quotes, e.g., \"I am a string\" (double quotes), or 'I am a string, too' (single quotes).\n",
    "\n",
    "5. Computer programs are collections of instructions. An instruction is a command to perform a specific task when executed, e.g., to print a certain message to the screen.\n",
    "\n",
    "6. In Python strings the backslash (\\) is a special character which announces that the next character has a different meaning, e.g., \\n (the newline character) starts a new output line.\n",
    "\n",
    "7. Positional arguments are the ones whose meaning is dictated by their position, e.g., the second argument is outputted after the first, the third is outputted after the second, etc.\n",
    "\n",
    "8. Keyword arguments are the ones whose meaning is not dictated by their location, but by a special word (keyword) used to identify them.\n",
    "\n",
    "9. The end and sep parameters can be used for formatting the output of the print() function. The sep parameter specifies the separator between the outputted arguments (e.g., print(\"H\", \"E\", \"L\", \"L\", \"O\", sep=\"-\"), whereas the end parameter specifies what to print at the end of the print statement."
   ]
  },
  {
   "cell_type": "markdown",
   "metadata": {},
   "source": [
    "### Literals - the data in itself\n",
    "\n",
    "Now that you have a little knowledge of some of the powerful features offered by the print() function, it's time to learn about some new issues, and one important new term - the literal.\n",
    "\n",
    "A literal is data whose values are determined by the literal itself.\n",
    "\n",
    "You use literals to encode data and to put them into your code.\n",
    "\n",
    "**123** is a Literal and **'C'** is a not.\n",
    "\n",
    "- Interge\n",
    "- Float\n",
    "- Strings\n",
    "- Boolean"
   ]
  },
  {
   "cell_type": "code",
   "execution_count": 13,
   "metadata": {},
   "outputs": [
    {
     "name": "stdout",
     "output_type": "stream",
     "text": [
      "2\n",
      "2\n"
     ]
    }
   ],
   "source": [
    "print(\"2\")\n",
    "print(2)"
   ]
  },
  {
   "cell_type": "markdown",
   "metadata": {},
   "source": [
    "### Integers\n",
    "\n",
    "- integers, that is, those which are devoid of the fractional part;\n",
    "- and floating-point numbers (or simply floats), that contain (or are able to contain) the fractional part.\n",
    "\n",
    "This definition is not entirely accurate, but quite sufficient for now. The distinction is very important, and the boundary between these two types of numbers is very strict. Both of these kinds of numbers differ significantly in how they're stored in a computer memory and in the range of acceptable values.\n",
    "\n",
    "The characteristic of the numeric value which determines its kind, range, and application, is called the type.\n",
    "\n",
    "If you encode a literal and place it inside Python code, the form of the literal determines the representation (type) Python will use to store it in the memory.\n",
    "\n",
    "### Integers: octal and hexadecimal numbers\n",
    "There are two additional conventions in Python that are unknown to the world of mathematics. The first allows us to use numbers in an **octal** representation.\n",
    "\n",
    "If an integer number is preceded by an 0O or 0o prefix (zero-o), it will be treated as an octal value. This means that the number must contain digits taken from the [0..7] range only.\n",
    "\n",
    "**'0o123'** is an octal number with a (decimal) value equal to **'83'**.\n",
    "\n",
    "The second convention allows us to use **hexadecimal numbers**. Such numbers should be preceded by the prefix 0x or 0X (zero-x).\n",
    "\n",
    "**'0x123'** is a hexadecimal number with a (decimal) value equal to **'291'**."
   ]
  },
  {
   "cell_type": "code",
   "execution_count": 14,
   "metadata": {},
   "outputs": [
    {
     "name": "stdout",
     "output_type": "stream",
     "text": [
      "83\n",
      "291\n"
     ]
    }
   ],
   "source": [
    "print(0o123)\n",
    "print(0x123)"
   ]
  },
  {
   "cell_type": "markdown",
   "metadata": {},
   "source": [
    "### Floats\n",
    "\n",
    "They are the numbers that have (or may have) a fractional part after the decimal point, and although such a definition is very poor, it's certainly sufficient for what we wish to discuss.\n",
    "\n",
    "Exanple : 2.5, -0.4"
   ]
  },
  {
   "cell_type": "markdown",
   "metadata": {},
   "source": [
    "### Strings\n",
    "\n",
    "Strings are used when you need to process text (like names of all kinds, addresses, novels, etc.), not numbers.\n",
    "e.g., that strings need quotes the way floats need points.\n",
    "This is a very typical string: **\"I am a string.\"**\n",
    "\n",
    "The first is based on the concept we already know of the escape character, which you should remember is played by the backslash. The backslash can escape quotes too. A quote preceded by a backslash changes its meaning - it's not a delimiter, but just a quote. This will work as intended:\n",
    "\n",
    "**print(\"I like \\\"Monty Python\\\"\")**\n",
    "\n",
    "| Output |\n",
    "| :- |\n",
    "| I like \"Monty Python\" |"
   ]
  },
  {
   "cell_type": "code",
   "execution_count": 15,
   "metadata": {},
   "outputs": [
    {
     "name": "stdout",
     "output_type": "stream",
     "text": [
      "I like \"Monty Python\"\n"
     ]
    }
   ],
   "source": [
    "print(\"I like \\\"Monty Python\\\"\")"
   ]
  },
  {
   "cell_type": "markdown",
   "metadata": {},
   "source": [
    "Note: there are two escaped quotes inside the string - can you see them both?\n",
    "\n",
    "The second solution may be a bit surprising. Python can use an apostrophe instead of a quote. Either of these characters may delimit strings, but you must be consistent.\n",
    "\n",
    "If you open a string with a quote, you have to close it with a quote.\n",
    "\n",
    "If you start a string with an apostrophe, you have to end it with an apostrophe."
   ]
  },
  {
   "cell_type": "code",
   "execution_count": 16,
   "metadata": {},
   "outputs": [
    {
     "name": "stdout",
     "output_type": "stream",
     "text": [
      "I like \"Monty Python\"\n"
     ]
    }
   ],
   "source": [
    "print('I like \"Monty Python\"')"
   ]
  },
  {
   "cell_type": "code",
   "execution_count": 17,
   "metadata": {},
   "outputs": [
    {
     "name": "stdout",
     "output_type": "stream",
     "text": [
      "I'm Monty Python.\n"
     ]
    }
   ],
   "source": [
    "print('I\\'m Monty Python.')"
   ]
  },
  {
   "cell_type": "code",
   "execution_count": 18,
   "metadata": {},
   "outputs": [
    {
     "name": "stdout",
     "output_type": "stream",
     "text": [
      "I'm Monty Python.\n"
     ]
    }
   ],
   "source": [
    "print(\"I'm Monty Python.\")"
   ]
  },
  {
   "cell_type": "markdown",
   "metadata": {},
   "source": [
    "### Boolean values\n",
    "\n",
    "A programmer writes a program, and the program asks questions. Python executes the program, and provides the answers. The program must be able to react according to the received answers.\n",
    "\n",
    "Fortunately, computers know only two kinds of answers:\n",
    "\n",
    "- Yes, this is true;\n",
    "- No, this is false.\n",
    "You'll never get a response like: I don't know or Probably yes, but I don't know for sure.\n",
    "\n",
    "Python, then, is a binary reptile.\n",
    "\n",
    "These two Boolean values have strict denotations in Python:\n",
    "\n",
    "- True\n",
    "- False"
   ]
  },
  {
   "cell_type": "markdown",
   "metadata": {},
   "source": [
    "## Key takeaways\n",
    "1. Literals are notations for representing some fixed values in code. Python has various types of literals - for example, a literal can be a number (numeric literals, e.g., 123), or a string (string literals, e.g., \"I am a literal.\").\n",
    "\n",
    "2. The binary system is a system of numbers that employs 2 as the base. Therefore, a binary number is made up of 0s and 1s only, e.g., 1010 is 10 in decimal.\n",
    "\n",
    "Octal and hexadecimal numeration systems, similarly, employ 8 and 16 as their bases respectively. The hexadecimal system uses the decimal numbers and six extra letters.\n",
    "3. Integers (or simply ints) are one of the numerical types supported by Python. They are numbers written without a fractional component, e.g., 256, or -1 (negative integers).\n",
    "\n",
    "4. Floating-point numbers (or simply floats) are another one of the numerical types supported by Python. They are numbers that contain (or are able to contain) a fractional component, e.g., 1.27.\n",
    "\n",
    "5. To encode an apostrophe or a quote inside a string you can either use the escape character, e.g., 'I\\'m happy.', or open and close the string using an opposite set of symbols to the ones you wish to encode, e.g., \"I'm happy.\" to encode an apostrophe, and 'He said \"Python\", not \"typhoon\"' to encode a (double) quote.\n",
    "\n",
    "6. Boolean values are the two constant objects True and False used to represent truth values (in numeric contexts 1 is True, while 0 is False.\n",
    "\n",
    "**EXTRA**\n",
    "\n",
    "There is one more, special literal that is used in Python: the None literal. This literal is a so-called NoneType object, and it is used to represent the absence of a value. We'll tell you more about it soon."
   ]
  },
  {
   "cell_type": "markdown",
   "metadata": {},
   "source": [
    "#### Exercise :\n",
    "\n",
    "1. **\"Hello \", \"007\"** - They're both strings/string literals.\n",
    "2. **\"1.5\", 2.0, 528, False** - The first is a string, the second is a numerical literal (a float), the third is a numerical literal (an integer), and the fourth is a boolean literal.\n",
    "3. **1011** - It's 11, because (2**0) + (2**1) + (2**3) = 11"
   ]
  },
  {
   "cell_type": "markdown",
   "metadata": {},
   "source": [
    "### Basic operators\n",
    "An operator is a symbol of the programming language, which is able to operate on the values.\n",
    "\n",
    "For example, just as in arithmetic, the + (plus) sign is the operator which is able to add two numbers, giving the result of the addition.\n",
    "\n",
    "Not all Python operators are as obvious as the plus sign, though, so let's go through some of the operators available in Python, and we'll explain which rules govern their use, and how to interpret the operations they perform.\n",
    "\n",
    "We'll begin with the operators which are associated with the most widely recognizable arithmetic operations:\n",
    "\n",
    "+, -, *, /, //, %, **"
   ]
  },
  {
   "cell_type": "markdown",
   "metadata": {},
   "source": [
    "### Arithmetic operators: exponentiation\n",
    "A ** (double asterisk) sign is an exponentiation (power) operator. Its left argument is the base, its right, the exponent.\n",
    "\n",
    "Classical mathematics prefers notation with superscripts, just like this: 23. Pure text editors don't accept that, so Python uses ** instead, e.g., 2 ** 3.\n",
    "\n",
    "Take a look at our examples in the editor window.\n",
    "\n",
    "\n",
    "Note: we've surrounded the double asterisks with spaces in our examples. It's not compulsory, but it improves the readability of the code.\n",
    "\n",
    "The examples show a very important feature of virtually all Python numerical operators.\n",
    "\n",
    "Run the code and look carefully at the results it produces. Can you see any regularity here?\n",
    "\n",
    "\n",
    "Remember: It's possible to formulate the following rules based on this result:\n",
    "\n",
    "when both ** arguments are integers, the result is an integer, too;\n",
    "when at least one ** argument is a float, the result is a float, too.\n",
    "This is an important distinction to remember."
   ]
  },
  {
   "cell_type": "markdown",
   "metadata": {},
   "source": [
    "##### Arithmetic operators: multiplication"
   ]
  },
  {
   "cell_type": "code",
   "execution_count": 21,
   "metadata": {},
   "outputs": [
    {
     "name": "stdout",
     "output_type": "stream",
     "text": [
      "8\n",
      "8.0\n",
      "8.0\n",
      "8.0\n"
     ]
    }
   ],
   "source": [
    "print(2 ** 3)\n",
    "print(2 ** 3.)\n",
    "print(2. ** 3)\n",
    "print(2. ** 3.)"
   ]
  },
  {
   "cell_type": "markdown",
   "metadata": {},
   "source": [
    "##### Arithmetic operators: division"
   ]
  },
  {
   "cell_type": "code",
   "execution_count": 22,
   "metadata": {},
   "outputs": [
    {
     "name": "stdout",
     "output_type": "stream",
     "text": [
      "2.0\n",
      "2.0\n",
      "2.0\n",
      "2.0\n"
     ]
    }
   ],
   "source": [
    "print(6 / 3)\n",
    "print(6 / 3.)\n",
    "print(6. / 3)\n",
    "print(6. / 3.)"
   ]
  },
  {
   "cell_type": "markdown",
   "metadata": {},
   "source": [
    "##### Arithmetic operators: integer division\n",
    "\n",
    "Integer division can also be called floor division."
   ]
  },
  {
   "cell_type": "code",
   "execution_count": 23,
   "metadata": {},
   "outputs": [
    {
     "name": "stdout",
     "output_type": "stream",
     "text": [
      "2\n",
      "2.0\n",
      "2.0\n",
      "2.0\n"
     ]
    }
   ],
   "source": [
    "print(6 // 3)\n",
    "print(6 // 3.)\n",
    "print(6. // 3)\n",
    "print(6. // 3.)"
   ]
  },
  {
   "cell_type": "code",
   "execution_count": 24,
   "metadata": {},
   "outputs": [
    {
     "name": "stdout",
     "output_type": "stream",
     "text": [
      "1\n",
      "1.0\n"
     ]
    }
   ],
   "source": [
    "print(6 // 4)\n",
    "print(6. // 4)"
   ]
  },
  {
   "cell_type": "code",
   "execution_count": 25,
   "metadata": {},
   "outputs": [
    {
     "name": "stdout",
     "output_type": "stream",
     "text": [
      "-2\n",
      "-2.0\n"
     ]
    }
   ],
   "source": [
    "print(-6 // 4)\n",
    "print(6. // -4)"
   ]
  },
  {
   "cell_type": "markdown",
   "metadata": {},
   "source": [
    "##### Operators: remainder (modulo)\n",
    "\n",
    "- **%** - remainder left after the integer division.\n",
    "\n",
    "- 14 // 4 gives 3 → this is the integer quotient;\n",
    "- 3 * 4 gives 12 → as a result of quotient and divisor multiplication;\n",
    "- 14 - 12 gives 2 → this is the remainder."
   ]
  },
  {
   "cell_type": "code",
   "execution_count": 26,
   "metadata": {},
   "outputs": [
    {
     "name": "stdout",
     "output_type": "stream",
     "text": [
      "3.0\n"
     ]
    }
   ],
   "source": [
    "print(12 % 4.5)"
   ]
  },
  {
   "cell_type": "markdown",
   "metadata": {},
   "source": [
    "### Operators: addition\n",
    "The addition operator is the + (plus) sign, which is fully in line with mathematical standards."
   ]
  },
  {
   "cell_type": "code",
   "execution_count": 27,
   "metadata": {},
   "outputs": [
    {
     "name": "stdout",
     "output_type": "stream",
     "text": [
      "0\n",
      "4.0\n"
     ]
    }
   ],
   "source": [
    "print(-4 + 4)\n",
    "print(-4. + 8)"
   ]
  },
  {
   "cell_type": "markdown",
   "metadata": {},
   "source": [
    "### The subtraction operator, unary and binary operators\n",
    "The subtraction operator is obviously the - (minus) sign, although you should note that this operator also has another meaning - it can change the sign of a number.\n",
    "\n",
    "This is a great opportunity to present a very important distinction between unary and binary operators.\n",
    "\n",
    "In subtracting applications, the minus operator expects two arguments: the left (a minuend in arithmetical terms) and right (a subtrahend)."
   ]
  },
  {
   "cell_type": "code",
   "execution_count": 28,
   "metadata": {},
   "outputs": [
    {
     "name": "stdout",
     "output_type": "stream",
     "text": [
      "-8\n",
      "-4.0\n",
      "-1.1\n"
     ]
    }
   ],
   "source": [
    "print(-4 - 4)\n",
    "print(4. - 8)\n",
    "print(-1.1)"
   ]
  },
  {
   "cell_type": "markdown",
   "metadata": {},
   "source": [
    "##### unary operator"
   ]
  },
  {
   "cell_type": "code",
   "execution_count": 29,
   "metadata": {},
   "outputs": [
    {
     "name": "stdout",
     "output_type": "stream",
     "text": [
      "2\n"
     ]
    }
   ],
   "source": [
    "print(+2)"
   ]
  },
  {
   "cell_type": "markdown",
   "metadata": {},
   "source": [
    "#### Operators and their priorities\n",
    "So far, we've treated each operator as if it had no connection with the others. Obviously, such an ideal and simple situation is a rarity in real programming.\n",
    "\n",
    "Also, you will very often find more than one operator in one expression, and then this presumption is no longer so obvious.\n",
    "\n",
    "Consider the following expression: **2 + 3 * 5**\n",
    "\n",
    "The phenomenon that causes some operators to act before others is known as the hierarchy of priorities.\n",
    "\n",
    "So, if you know that * has a higher priority than +, the computation of the final result should be obvious.\n",
    "\n",
    "#### Operators and their bindings\n",
    "The binding of the operator determines the order of computations performed by some operators with equal priority, put side by side in one expression.\n",
    "\n",
    "Most of Python's operators have left-sided binding, which means that the calculation of the expression is conducted from left to right.\n",
    "\n",
    "This simple example will show you how it works. : **print(9 % 6 % 2)**\n",
    "\n",
    "There are two possible ways of evaluating this expression:\n",
    "\n",
    "- from left to right: first 9 % 6 gives 3, and then 3 % 2 gives 1;\n",
    "- from right to left: first 6 % 2 gives 0, and then 9 % 0 causes a fatal error.\n",
    "\n",
    "Run the example and see what you get.\n",
    "\n",
    "The result should be 1. This operator has left-sided binding. But there's one interesting exception."
   ]
  },
  {
   "cell_type": "code",
   "execution_count": 30,
   "metadata": {},
   "outputs": [
    {
     "name": "stdout",
     "output_type": "stream",
     "text": [
      "256\n"
     ]
    }
   ],
   "source": [
    "print(2 ** 2 ** 3)"
   ]
  },
  {
   "cell_type": "markdown",
   "metadata": {},
   "source": [
    "#### Operators and parentheses\n",
    "Of course, you're always allowed to use parentheses, which can change the natural order of a calculation.\n",
    "\n",
    "In accordance with the arithmetic rules, subexpressions in parentheses are always calculated first.\n",
    "\n",
    "You can use as many parentheses as you need, and they're often used to improve the readability of an expression, even if they don't change the order of the operations"
   ]
  },
  {
   "cell_type": "code",
   "execution_count": 31,
   "metadata": {},
   "outputs": [
    {
     "name": "stdout",
     "output_type": "stream",
     "text": [
      "10.0\n"
     ]
    }
   ],
   "source": [
    "print((5 * ((25 % 13) + 100) / (2 * 13)) // 2)"
   ]
  },
  {
   "cell_type": "markdown",
   "metadata": {},
   "source": [
    "### Key takeaways\n",
    "1. An expression is a combination of values (or variables, operators, calls to functions - you will learn about them soon) which evaluates to a value, e.g., 1 + 2.\n",
    "\n",
    "2. Operators are special symbols or keywords which are able to operate on the values and perform (mathematical) operations, e.g., the * operator multiplies two values: x * y.\n",
    "\n",
    "3. Arithmetic operators in Python: + (addition), - (subtraction), * (multiplication), / (classic division - always returns a float), % (modulus - divides left operand by right operand and returns the remainder of the operation, e.g., 5 % 2 = 1), ** (exponentiation - left operand raised to the power of right operand, e.g., 2 ** 3 = 2 * 2 * 2 = 8), // (floor/integer division - returns a number resulting from division, but rounded down to the nearest whole number, e.g., 3 // 2.0 = 1.0)\n",
    "\n",
    "4. A unary operator is an operator with only one operand, e.g., -1, or +3.\n",
    "\n",
    "5. A binary operator is an operator with two operands, e.g., 4 + 5, or 12 % 5.\n",
    "\n",
    "6. Some operators act before others - the hierarchy of priorities:\n",
    "\n",
    "unary + and - have the highest priority\n",
    "then: **, then: *, /, and %, and then the lowest priority: binary + and -.\n",
    "7. Subexpressions in parentheses are always calculated first, e.g., 15 - 1 * (5 * (1 + 2)) = 0.\n",
    "\n",
    "8. The exponentiation operator uses right-sided binding, e.g., 2 ** 2 ** 3 = 256."
   ]
  },
  {
   "cell_type": "code",
   "execution_count": 32,
   "metadata": {},
   "outputs": [
    {
     "name": "stdout",
     "output_type": "stream",
     "text": [
      "16 8.0 8\n"
     ]
    }
   ],
   "source": [
    "print((2 ** 4), (2 * 4.), (2 * 4))"
   ]
  },
  {
   "cell_type": "code",
   "execution_count": 33,
   "metadata": {},
   "outputs": [
    {
     "name": "stdout",
     "output_type": "stream",
     "text": [
      "-0.5 0.5 0 -1\n"
     ]
    }
   ],
   "source": [
    "print((-2 / 4), (2 / 4), (2 // 4), (-2 // 4))"
   ]
  },
  {
   "cell_type": "code",
   "execution_count": 34,
   "metadata": {},
   "outputs": [
    {
     "name": "stdout",
     "output_type": "stream",
     "text": [
      "-2 2 512\n"
     ]
    }
   ],
   "source": [
    "print((2 % -4), (2 % 4), (2 ** 3 ** 2))"
   ]
  },
  {
   "cell_type": "markdown",
   "metadata": {},
   "source": [
    "### What are variables?\n",
    "\n",
    "How do you save the intermediate results, and use them again to produce subsequent ones?\n",
    "\n",
    "Python will help you with that. It offers special \"boxes\" (containers) for that purpose, and these boxes are called variables - the name itself suggests that the content of these containers can be varied in (almost) any way.\n",
    "\n",
    "What does every Python variable have?\n",
    "\n",
    "- a name;\n",
    "- a value (the content of the container)\n",
    "\n",
    "Variables do not appear in a program automatically. As developer, you must decide how many and which variables to use in your programs.\n",
    "\n",
    "If you want to give a name to a variable, you must follow some strict rules:\n",
    "\n",
    "- the name of the variable must be composed of upper-case or lower-case letters, digits, and the character _ (underscore)\n",
    "- the name of the variable must begin with a letter;\n",
    "- the underscore character is a letter;\n",
    "- upper- and lower-case letters are treated as different (a little differently than in the real world - Alice and ALICE are the same - first names, but in Python they are two different variable names, and consequently, two different variables);\n",
    "- the name of the variable must not be any of Python's reserved words (the keywords - we'll explain more about this soon)."
   ]
  },
  {
   "cell_type": "markdown",
   "metadata": {},
   "source": [
    "#### Correct and incorrect variable names\n",
    "\n",
    "naming convention for variables and functions in Python:\n",
    "- variable names should be lowercase, with words separated by underscores to improve readability (e.g., var, my_variable)\n",
    "- function names follow the same convention as variable names (e.g., fun, my_function)\n",
    "- it's also possible to use mixed case (e.g., myVariable), but only in contexts where that's already the prevailing style, to retain - backwards compatibility with the adopted convention.\n",
    "\n",
    "incorrect names: 10t, Exchange rate(Contains space)\n",
    "Correct names : MyVariable, i, t34, Exchange_Rate, counter, days_to_christmas, TheNameIsSoLongThatYouWillMakeMistakesWithIt, _."
   ]
  },
  {
   "cell_type": "markdown",
   "metadata": {},
   "source": [
    "#### Keywords\n",
    "\n",
    "['False', 'None', 'True', 'and', 'as', 'assert', 'break', 'class', 'continue', 'def', 'del', 'elif', 'else', 'except', 'finally', 'for', 'from', 'global', 'if', 'import', 'in', 'is', 'lambda', 'nonlocal', 'not', 'or', 'pass', 'raise', 'return', 'try', 'while', 'with', 'yield']For example - you can't name your variable like this:\n",
    "\n",
    "import\n",
    "\n",
    "They are called keywords or (more precisely) reserved keywords. They are reserved because you mustn't use them as names: neither for your variables, nor functions, nor any other named entities you want to create.\n",
    "\n",
    "The meaning of the reserved word is predefined, and mustn't be changed in any way.\n",
    "\n",
    "Fortunately, due to the fact that Python is case-sensitive, you can modify any of these words by changing the case of any letter, thus creating a new word, which is not reserved anymore.\n",
    "\n",
    "For example - you can't name your variable like this:\n",
    "\n",
    "**import**\n",
    "\n",
    "ut you can do this instead:\n",
    "\n",
    "**Import**"
   ]
  },
  {
   "cell_type": "markdown",
   "metadata": {},
   "source": [
    "### Shortcut operators\n",
    "Very often, we want to use one and the same variable both to the right and left sides of the = operator.\n",
    "\n",
    "For example, if we need to calculate a series of successive values of powers of 2, we may use a piece like this:\n",
    "\n",
    "**x = x * 2**\n",
    "\n",
    "Python offers you a shortened way of writing operations like these, which can be coded as follows:\n",
    "\n",
    "**x *= 2\n",
    "sheep += 1**\n",
    "\n",
    "**i = i + 2 * j ⇒ i += 2 * j\n",
    "\n",
    "**var = var / 2 ⇒ var /= 2\n",
    "\n",
    "**rem = rem % 10 ⇒ rem %= 10\n",
    "\n",
    "**j = j - (i + var + rem) ⇒ j -= (i + var + rem)\n",
    "\n",
    "**x = x ** 2 ⇒ x **= 2**"
   ]
  },
  {
   "cell_type": "markdown",
   "metadata": {},
   "source": [
    "### Key takeaways\n",
    "\n",
    "1. A variable is a named location reserved to store values in the memory. A variable is created or initialized automatically when you assign a value to it for the first time. (2.1.4.1)\n",
    "\n",
    "2. Each variable must have a unique name - an identifier. A legal identifier name must be a non-empty sequence of characters, must begin with the underscore(_), or a letter, and it cannot be a Python keyword. The first character may be followed by underscores, letters, and digits. Identifiers in Python are case-sensitive. (2.1.4.1)\n",
    "\n",
    "3. Python is a dynamically-typed language, which means you don't need to declare variables in it. (2.1.4.3) To assign values to variables, you can use a simple assignment operator in the form of the equal (=) sign, i.e., var = 1.\n",
    "\n",
    "4. You can also use compound assignment operators (shortcut operators) to modify values assigned to variables, e.g., var += 1, or var /= 5 * 2. (2.1.4.8)\n",
    "\n",
    "5. You can assign new values to already existing variables using the assignment operator or one of the compound operators, e.g.: (2.1.4.5)\n",
    "\n",
    "var = 2\n",
    "print(var)\n",
    "\n",
    "var = 3\n",
    "print(var)\n",
    "\n",
    "var += 1\n",
    "print(var)\n",
    "\n",
    "\n",
    "6. You can combine text and variables using the + operator, and use the print() function to output strings and variables, e.g.: (2.1.4.4)\n",
    "\n",
    "var = \"007\"\n",
    "print(\"Agent \" + var)"
   ]
  },
  {
   "cell_type": "markdown",
   "metadata": {},
   "source": [
    "#### Excercise : \n",
    "\n",
    "1. What is the output of the following snippet?\n"
   ]
  },
  {
   "cell_type": "code",
   "execution_count": 37,
   "metadata": {},
   "outputs": [
    {
     "name": "stdout",
     "output_type": "stream",
     "text": [
      "3\n"
     ]
    }
   ],
   "source": [
    "var = 2\n",
    "var = 3\n",
    "print(var)"
   ]
  },
  {
   "cell_type": "markdown",
   "metadata": {},
   "source": [
    "2. Which of the following variable names are illegal in Python?\n",
    "\n",
    "my_var\n",
    "m\n",
    "101\n",
    "averylongvariablename\n",
    "m101\n",
    "m 101\n",
    "Del\n",
    "del\n",
    "\n",
    "**Answer**\n",
    "\n",
    "Check\n",
    "\n",
    "my_var\n",
    "\n",
    "m\n",
    "\n",
    "101 # incorrect (starts with a digit)\n",
    "\n",
    "averylongvariablename\n",
    "\n",
    "m101\n",
    "\n",
    "m 101 # incorrect (contains a space)\n",
    "\n",
    "Del\n",
    "\n",
    "del # incorrect (is a keyword)"
   ]
  },
  {
   "cell_type": "markdown",
   "metadata": {},
   "source": [
    "3. What is the output of the following snippet?"
   ]
  },
  {
   "cell_type": "code",
   "execution_count": 39,
   "metadata": {},
   "outputs": [
    {
     "name": "stdout",
     "output_type": "stream",
     "text": [
      "11\n"
     ]
    }
   ],
   "source": [
    "a = '1'\n",
    "b = \"1\"\n",
    "print(a + b)"
   ]
  },
  {
   "cell_type": "markdown",
   "metadata": {},
   "source": [
    "4. What is the output of the following snippet?"
   ]
  },
  {
   "cell_type": "code",
   "execution_count": 40,
   "metadata": {},
   "outputs": [
    {
     "name": "stdout",
     "output_type": "stream",
     "text": [
      "1.0\n"
     ]
    }
   ],
   "source": [
    "a = 6\n",
    "b = 3\n",
    "a /= 2 * b\n",
    "print(a)"
   ]
  },
  {
   "cell_type": "markdown",
   "metadata": {},
   "source": [
    "### Key takeaways\n",
    "\n",
    "1. Comments can be used to leave additional information in code. They are omitted at runtime. The information left in source code is addressed to human readers. In Python, a comment is a piece of text that begins with #. The comment extends to the end of line.\n",
    "\n",
    "2. If you want to place a comment that spans several lines, you need to place # in front of them all. Moreover, you can use a comment to mark a piece of code that is not needed at the moment (see the last line of the snippet below), e.g.:\n",
    "\n",
    "##### This program prints\n",
    "##### an introduction to the screen.\n",
    "print(\"Hello!\")  # Invoking the print() function\n",
    "##### print(\"I'm Python.\")\n",
    "\n",
    "\n",
    "3. Whenever possible and justified, you should give self-commenting names to variables, e.g., if you're using two variables to store a length and width of something, the variable names length and width may be a better choice than myvar1 and myvar2.\n",
    "\n",
    "4. It's important to use comments to make programs easier to understand, and to use readable and meaningful variable names in code. However, it's equally important not to use variable names that are confusing, or leave comments that contain wrong or incorrect information!\n",
    "\n",
    "5. Comments can be important when you are reading your own code after some time (trust us, developers do forget what their own code does), and when others are reading your code (can help them understand what your programs do and how they do it more quickly).\n",
    "\n"
   ]
  },
  {
   "cell_type": "code",
   "execution_count": 41,
   "metadata": {},
   "outputs": [
    {
     "name": "stdout",
     "output_type": "stream",
     "text": [
      "String #2\n"
     ]
    }
   ],
   "source": [
    "# print(\"String #1\")\n",
    "print(\"String #2\")"
   ]
  },
  {
   "cell_type": "code",
   "execution_count": 42,
   "metadata": {},
   "outputs": [
    {
     "ename": "SyntaxError",
     "evalue": "invalid syntax (<ipython-input-42-feb47673a19f>, line 2)",
     "output_type": "error",
     "traceback": [
      "\u001b[1;36m  File \u001b[1;32m\"<ipython-input-42-feb47673a19f>\"\u001b[1;36m, line \u001b[1;32m2\u001b[0m\n\u001b[1;33m    a multiline\u001b[0m\n\u001b[1;37m              ^\u001b[0m\n\u001b[1;31mSyntaxError\u001b[0m\u001b[1;31m:\u001b[0m invalid syntax\n"
     ]
    }
   ],
   "source": [
    "# This is\n",
    "a multiline\n",
    "comment. #\n",
    "\n",
    "print(\"Hello!\")"
   ]
  },
  {
   "cell_type": "markdown",
   "metadata": {},
   "source": [
    "## The input() function"
   ]
  },
  {
   "cell_type": "markdown",
   "metadata": {},
   "source": [
    "We're now going to introduce you to a completely new function, which seems to be a mirror reflection of the good old print() function.\n",
    "print() sends data to the console. print() has no usable result. The meaning of the new function is to return a very usable result.\n",
    "The function is named input(). The name of the function says everything.\n",
    "\n",
    "The input() function is able to read data entered by the user and to return the same data to the running program.\n",
    "\n",
    "The program can manipulate the data, making the code truly interactive.\n",
    "\n",
    "Virtually all programs read and process data. A program which doesn't get a user's input is a deaf program."
   ]
  },
  {
   "cell_type": "code",
   "execution_count": 43,
   "metadata": {},
   "outputs": [
    {
     "name": "stdout",
     "output_type": "stream",
     "text": [
      "Tell me anything...\n"
     ]
    },
    {
     "name": "stdin",
     "output_type": "stream",
     "text": [
      " hi\n"
     ]
    },
    {
     "name": "stdout",
     "output_type": "stream",
     "text": [
      "Hmm... hi ... Really?\n"
     ]
    }
   ],
   "source": [
    "print(\"Tell me anything...\")\n",
    "anything = input()\n",
    "print(\"Hmm...\", anything, \"... Really?\")"
   ]
  },
  {
   "cell_type": "markdown",
   "metadata": {},
   "source": [
    "#### Note:\n",
    "\n",
    "- The program prompts the user to input some data from the console (most likely using a keyboard, although it is also possible to input data using voice or image);\n",
    "- the input() function is invoked without arguments (this is the simplest way of using the function); the function will switch the console to input mode; you'll see a blinking cursor, and you'll be able to input some keystrokes, finishing off by hitting the Enter key; \n",
    "- all the inputted data will be sent to your program through the function's result;\n",
    "note: you need to assign the result to a variable;\n",
    "- this is crucial - missing out this step will cause the entered data to be lost;\n",
    "then we use the print() function to output the data we get, with some additional remarks."
   ]
  },
  {
   "cell_type": "markdown",
   "metadata": {},
   "source": [
    "#### The input() function with an argument\n",
    "The input() function can do something else: it can prompt the user without any help from print()."
   ]
  },
  {
   "cell_type": "code",
   "execution_count": 44,
   "metadata": {},
   "outputs": [
    {
     "name": "stdin",
     "output_type": "stream",
     "text": [
      "Tell me anything... hi\n"
     ]
    },
    {
     "name": "stdout",
     "output_type": "stream",
     "text": [
      "Hmm... hi ...Really?\n"
     ]
    }
   ],
   "source": [
    "anything = input(\"Tell me anything...\")\n",
    "print(\"Hmm...\", anything, \"...Really?\")"
   ]
  },
  {
   "cell_type": "markdown",
   "metadata": {},
   "source": [
    "#### Note:\n",
    "\n",
    "- the input() function is invoked with one argument - it's a string containing a message;\n",
    "- the message will be displayed on the console before the user is given an opportunity to enter anything;\n",
    "- input() will then do its job.\n",
    "\n",
    "This variant of the input() invocation simplifies the code and makes it clearer."
   ]
  },
  {
   "cell_type": "markdown",
   "metadata": {},
   "source": [
    "**The result of the input() function\n",
    "We've said it already, but it must be unambiguously stated once again: the result of the **input() function is a string.**\n",
    "\n",
    "A string containing all the characters the user enters from the keyboard. It is not an integer or a float.\n",
    "\n",
    "This means that you mustn't use it as an argument of any arithmetic operation, e.g., you can't use this data to square it, divide it by anything, or divide anything by it."
   ]
  },
  {
   "cell_type": "code",
   "execution_count": 45,
   "metadata": {},
   "outputs": [
    {
     "name": "stdin",
     "output_type": "stream",
     "text": [
      "Enter a number:  4\n"
     ]
    },
    {
     "ename": "TypeError",
     "evalue": "unsupported operand type(s) for ** or pow(): 'str' and 'float'",
     "output_type": "error",
     "traceback": [
      "\u001b[1;31m---------------------------------------------------------------------------\u001b[0m",
      "\u001b[1;31mTypeError\u001b[0m                                 Traceback (most recent call last)",
      "\u001b[1;32m<ipython-input-45-cf85aa8c229a>\u001b[0m in \u001b[0;36m<module>\u001b[1;34m\u001b[0m\n\u001b[0;32m      1\u001b[0m \u001b[0manything\u001b[0m \u001b[1;33m=\u001b[0m \u001b[0minput\u001b[0m\u001b[1;33m(\u001b[0m\u001b[1;34m\"Enter a number: \"\u001b[0m\u001b[1;33m)\u001b[0m\u001b[1;33m\u001b[0m\u001b[1;33m\u001b[0m\u001b[0m\n\u001b[1;32m----> 2\u001b[1;33m \u001b[0msomething\u001b[0m \u001b[1;33m=\u001b[0m \u001b[0manything\u001b[0m \u001b[1;33m**\u001b[0m \u001b[1;36m2.0\u001b[0m\u001b[1;33m\u001b[0m\u001b[1;33m\u001b[0m\u001b[0m\n\u001b[0m\u001b[0;32m      3\u001b[0m \u001b[0mprint\u001b[0m\u001b[1;33m(\u001b[0m\u001b[0manything\u001b[0m\u001b[1;33m,\u001b[0m \u001b[1;34m\"to the power of 2 is\"\u001b[0m\u001b[1;33m,\u001b[0m \u001b[0msomething\u001b[0m\u001b[1;33m)\u001b[0m\u001b[1;33m\u001b[0m\u001b[1;33m\u001b[0m\u001b[0m\n",
      "\u001b[1;31mTypeError\u001b[0m: unsupported operand type(s) for ** or pow(): 'str' and 'float'"
     ]
    }
   ],
   "source": [
    "anything = input(\"Enter a number: \")\n",
    "something = anything ** 2.0\n",
    "print(anything, \"to the power of 2 is\", something)"
   ]
  },
  {
   "cell_type": "markdown",
   "metadata": {},
   "source": [
    "#### Type casting\n",
    "Python offers two simple functions to specify a type of data and solve this problem - here they are: int() and float().\n",
    "\n",
    "Their names are self-commenting:\n",
    "\n",
    "- the int() function takes one argument (e.g., a string: int(string)) and tries to convert it into an integer; if it fails, the whole program will fail too (there is a workaround for this situation, but we'll show you this a little later);\n",
    "- the float() function takes one argument (e.g., a string: float(string)) and tries to convert it into a float (the rest is the same)."
   ]
  },
  {
   "cell_type": "code",
   "execution_count": 46,
   "metadata": {},
   "outputs": [
    {
     "name": "stdin",
     "output_type": "stream",
     "text": [
      "Enter a number:  6\n"
     ]
    },
    {
     "name": "stdout",
     "output_type": "stream",
     "text": [
      "6.0 to the power of 2 is 36.0\n"
     ]
    }
   ],
   "source": [
    "anything = float(input(\"Enter a number: \"))\n",
    "something = anything ** 2.0\n",
    "print(anything, \"to the power of 2 is\", something)"
   ]
  },
  {
   "cell_type": "code",
   "execution_count": 47,
   "metadata": {},
   "outputs": [
    {
     "name": "stdin",
     "output_type": "stream",
     "text": [
      "May I have your first name, please?  anusha\n",
      "May I have your last name, please?  kr\n"
     ]
    },
    {
     "name": "stdout",
     "output_type": "stream",
     "text": [
      "Thank you.\n",
      "\n",
      "Your name is anusha kr.\n"
     ]
    }
   ],
   "source": [
    "fnam = input(\"May I have your first name, please? \")\n",
    "lnam = input(\"May I have your last name, please? \")\n",
    "print(\"Thank you.\")\n",
    "print(\"\\nYour name is \" + fnam + \" \" + lnam + \".\")"
   ]
  },
  {
   "cell_type": "code",
   "execution_count": 48,
   "metadata": {},
   "outputs": [
    {
     "data": {
      "text/plain": [
       "'22222'"
      ]
     },
     "execution_count": 48,
     "metadata": {},
     "output_type": "execute_result"
    }
   ],
   "source": [
    "\"James\" * 3 "
   ]
  },
  {
   "cell_type": "code",
   "execution_count": 49,
   "metadata": {},
   "outputs": [
    {
     "data": {
      "text/plain": [
       "'ananan'"
      ]
     },
     "execution_count": 49,
     "metadata": {},
     "output_type": "execute_result"
    }
   ],
   "source": [
    "3 * \"an\" "
   ]
  },
  {
   "cell_type": "code",
   "execution_count": 50,
   "metadata": {},
   "outputs": [
    {
     "data": {
      "text/plain": [
       "'22222'"
      ]
     },
     "execution_count": 50,
     "metadata": {},
     "output_type": "execute_result"
    }
   ],
   "source": [
    "5 * \"2\" "
   ]
  },
  {
   "cell_type": "code",
   "execution_count": 51,
   "metadata": {},
   "outputs": [
    {
     "name": "stdout",
     "output_type": "stream",
     "text": [
      "+----------+\n",
      "|          |\n",
      "|          |\n",
      "|          |\n",
      "|          |\n",
      "|          |\n",
      "+----------+\n"
     ]
    }
   ],
   "source": [
    "print(\"+\" + 10 * \"-\" + \"+\")\n",
    "print((\"|\" + \" \" * 10 + \"|\\n\") * 5, end=\"\")\n",
    "print(\"+\" + 10 * \"-\" + \"+\")"
   ]
  },
  {
   "cell_type": "code",
   "execution_count": 52,
   "metadata": {},
   "outputs": [
    {
     "name": "stdin",
     "output_type": "stream",
     "text": [
      "Input first leg length:  12\n",
      "Input second leg length:  13\n"
     ]
    },
    {
     "name": "stdout",
     "output_type": "stream",
     "text": [
      "Hypotenuse length is 17.69180601295413\n"
     ]
    }
   ],
   "source": [
    "leg_a = float(input(\"Input first leg length: \"))\n",
    "leg_b = float(input(\"Input second leg length: \"))\n",
    "print(\"Hypotenuse length is \" + str((leg_a**2 + leg_b**2) ** .5))\n"
   ]
  },
  {
   "cell_type": "markdown",
   "metadata": {},
   "source": [
    "### Key takeaways\n",
    "\n",
    "1. The print() function sends data to the console, while the input() function gets data from the console.\n",
    "\n",
    "2. The input() function comes with an optional parameter: the prompt string. It allows you to write a message before the user input, e.g.:"
   ]
  },
  {
   "cell_type": "code",
   "execution_count": 53,
   "metadata": {},
   "outputs": [
    {
     "name": "stdin",
     "output_type": "stream",
     "text": [
      "Enter your name:  anusha\n"
     ]
    },
    {
     "name": "stdout",
     "output_type": "stream",
     "text": [
      "Hello, anusha. Nice to meet you!\n"
     ]
    }
   ],
   "source": [
    "name = input(\"Enter your name: \")\n",
    "print(\"Hello, \" + name + \". Nice to meet you!\")"
   ]
  },
  {
   "cell_type": "markdown",
   "metadata": {},
   "source": [
    "3. When the input() function is called, the program's flow is stopped, the prompt symbol keeps blinking (it prompts the user to take action when the console is switched to input mode) until the user has entered an input and/or pressed the Enter key."
   ]
  },
  {
   "cell_type": "markdown",
   "metadata": {},
   "source": [
    "You can test the functionality of the input() function in its full scope locally on your machine. For resource optimization reasons, we have limited the maximum program execution time in Edube to a few seconds. Go to Sandbox, copy-paste the above snippet, run the program, and do nothing - just wait a few seconds to see what happens. Your program should be stopped automatically after a short moment. Now open IDLE, and run the same program there - can you see the difference?\n",
    "\n",
    "Tip: the above-mentioned feature of the input() function can be used to prompt the user to end a program. Look at the code below:"
   ]
  },
  {
   "cell_type": "code",
   "execution_count": 54,
   "metadata": {},
   "outputs": [
    {
     "name": "stdin",
     "output_type": "stream",
     "text": [
      "Enter your name:  anusha\n"
     ]
    },
    {
     "name": "stdout",
     "output_type": "stream",
     "text": [
      "Hello, anusha. Nice to meet you!\n",
      "\n",
      "Press Enter to end the program.\n"
     ]
    },
    {
     "name": "stdin",
     "output_type": "stream",
     "text": [
      " \n"
     ]
    },
    {
     "name": "stdout",
     "output_type": "stream",
     "text": [
      "THE END.\n"
     ]
    }
   ],
   "source": [
    "name = input(\"Enter your name: \")\n",
    "print(\"Hello, \" + name + \". Nice to meet you!\")\n",
    "\n",
    "print(\"\\nPress Enter to end the program.\")\n",
    "input()\n",
    "print(\"THE END.\")"
   ]
  },
  {
   "cell_type": "markdown",
   "metadata": {},
   "source": [
    "4. The result of the input() function is a string. You can add strings to each other using the concatenation (+) operator. Check out this code:"
   ]
  },
  {
   "cell_type": "code",
   "execution_count": 55,
   "metadata": {},
   "outputs": [
    {
     "name": "stdin",
     "output_type": "stream",
     "text": [
      "Enter the first number:  1\n",
      "Enter the second number:  2\n"
     ]
    },
    {
     "name": "stdout",
     "output_type": "stream",
     "text": [
      "12\n"
     ]
    }
   ],
   "source": [
    "num_1 = input(\"Enter the first number: \") # Enter 12\n",
    "num_2 = input(\"Enter the second number: \") # Enter 21\n",
    "\n",
    "print(num_1 + num_2) # the program returns 1221\n"
   ]
  },
  {
   "cell_type": "markdown",
   "metadata": {},
   "source": [
    "5. You can also multiply (* - replication) strings, e.g.:"
   ]
  },
  {
   "cell_type": "code",
   "execution_count": 56,
   "metadata": {},
   "outputs": [
    {
     "name": "stdin",
     "output_type": "stream",
     "text": [
      "Enter something:  1\n"
     ]
    },
    {
     "name": "stdout",
     "output_type": "stream",
     "text": [
      "111\n"
     ]
    }
   ],
   "source": [
    "my_input = input(\"Enter something: \") # Example input: hello\n",
    "print(my_input * 3) # Expected output: hellohellohello"
   ]
  },
  {
   "cell_type": "code",
   "execution_count": 57,
   "metadata": {},
   "outputs": [
    {
     "name": "stdin",
     "output_type": "stream",
     "text": [
      "Enter a number:  2\n"
     ]
    },
    {
     "name": "stdout",
     "output_type": "stream",
     "text": [
      "55\n"
     ]
    }
   ],
   "source": [
    "x = int(input(\"Enter a number: \")) # The user enters 2\n",
    "print(x * \"5\")"
   ]
  },
  {
   "cell_type": "code",
   "execution_count": 58,
   "metadata": {},
   "outputs": [
    {
     "name": "stdin",
     "output_type": "stream",
     "text": [
      "Enter a number:  3\n"
     ]
    },
    {
     "name": "stdout",
     "output_type": "stream",
     "text": [
      "<class 'str'>\n"
     ]
    }
   ],
   "source": [
    "x = input(\"Enter a number: \") # The user enters 2\n",
    "print(type(x))"
   ]
  },
  {
   "cell_type": "code",
   "execution_count": 64,
   "metadata": {},
   "outputs": [
    {
     "name": "stdin",
     "output_type": "stream",
     "text": [
      " 2\n",
      " 6\n"
     ]
    },
    {
     "ename": "ZeroDivisionError",
     "evalue": "integer division or modulo by zero",
     "output_type": "error",
     "traceback": [
      "\u001b[1;31m---------------------------------------------------------------------------\u001b[0m",
      "\u001b[1;31mZeroDivisionError\u001b[0m                         Traceback (most recent call last)",
      "\u001b[1;32m<ipython-input-64-4cf8d7d3abc3>\u001b[0m in \u001b[0;36m<module>\u001b[1;34m\u001b[0m\n\u001b[0;32m      3\u001b[0m \u001b[1;33m\u001b[0m\u001b[0m\n\u001b[0;32m      4\u001b[0m \u001b[0mx\u001b[0m \u001b[1;33m=\u001b[0m \u001b[0mx\u001b[0m\u001b[1;33m//\u001b[0m\u001b[0my\u001b[0m\u001b[1;33m\u001b[0m\u001b[1;33m\u001b[0m\u001b[0m\n\u001b[1;32m----> 5\u001b[1;33m \u001b[0my\u001b[0m\u001b[1;33m=\u001b[0m \u001b[0my\u001b[0m\u001b[1;33m//\u001b[0m\u001b[0mx\u001b[0m\u001b[1;33m\u001b[0m\u001b[1;33m\u001b[0m\u001b[0m\n\u001b[0m\u001b[0;32m      6\u001b[0m \u001b[1;33m\u001b[0m\u001b[0m\n\u001b[0;32m      7\u001b[0m \u001b[0mprint\u001b[0m\u001b[1;33m(\u001b[0m\u001b[0my\u001b[0m\u001b[1;33m)\u001b[0m\u001b[1;33m\u001b[0m\u001b[1;33m\u001b[0m\u001b[0m\n",
      "\u001b[1;31mZeroDivisionError\u001b[0m: integer division or modulo by zero"
     ]
    }
   ],
   "source": [
    "x=int(input())\n",
    "y=int(input())\n",
    "\n",
    "x = x//y\n",
    "y= y//x\n",
    "\n",
    "print(y)"
   ]
  },
  {
   "cell_type": "code",
   "execution_count": 65,
   "metadata": {},
   "outputs": [
    {
     "name": "stdin",
     "output_type": "stream",
     "text": [
      " 3\n",
      " 6\n"
     ]
    },
    {
     "name": "stdout",
     "output_type": "stream",
     "text": [
      "333333\n"
     ]
    }
   ],
   "source": [
    "x=input()\n",
    "y=int(input())\n",
    "\n",
    "print(x*y)"
   ]
  },
  {
   "cell_type": "code",
   "execution_count": 66,
   "metadata": {},
   "outputs": [
    {
     "name": "stdin",
     "output_type": "stream",
     "text": [
      " 2\n",
      " 4\n"
     ]
    },
    {
     "name": "stdout",
     "output_type": "stream",
     "text": [
      "8.0\n"
     ]
    }
   ],
   "source": [
    "x=int(input())\n",
    "y=int(input())\n",
    "\n",
    "x = x/y\n",
    "y= y/x\n",
    "\n",
    "print(y)"
   ]
  },
  {
   "cell_type": "code",
   "execution_count": 67,
   "metadata": {},
   "outputs": [
    {
     "name": "stdin",
     "output_type": "stream",
     "text": [
      " 11\n",
      " 4\n"
     ]
    },
    {
     "name": "stdout",
     "output_type": "stream",
     "text": [
      "1\n"
     ]
    }
   ],
   "source": [
    "x=int(input())\n",
    "y=int(input())\n",
    "\n",
    "x=x%y\n",
    "x=x%y\n",
    "y=y%x\n",
    "\n",
    "print(y)"
   ]
  },
  {
   "cell_type": "code",
   "execution_count": 68,
   "metadata": {},
   "outputs": [
    {
     "name": "stdout",
     "output_type": "stream",
     "text": [
      "1*1*1\n"
     ]
    }
   ],
   "source": [
    "x=y=z=1\n",
    "\n",
    "print(x , y , z , sep=\"*\")"
   ]
  }
 ],
 "metadata": {
  "kernelspec": {
   "display_name": "Python 3",
   "language": "python",
   "name": "python3"
  },
  "language_info": {
   "codemirror_mode": {
    "name": "ipython",
    "version": 3
   },
   "file_extension": ".py",
   "mimetype": "text/x-python",
   "name": "python",
   "nbconvert_exporter": "python",
   "pygments_lexer": "ipython3",
   "version": "3.7.6"
  }
 },
 "nbformat": 4,
 "nbformat_minor": 4
}
